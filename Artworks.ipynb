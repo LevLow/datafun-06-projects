{
 "cells": [
  {
   "attachments": {},
   "cell_type": "markdown",
   "metadata": {},
   "source": [
    "#Exploratory Data: Artworks \n",
    "##Levi Lowther\n",
    "##2/20/23"
   ]
  },
  {
   "attachments": {},
   "cell_type": "markdown",
   "metadata": {},
   "source": [
    "##1: Import what is necessary and create dataframe"
   ]
  },
  {
   "cell_type": "code",
   "execution_count": 185,
   "metadata": {},
   "outputs": [],
   "source": [
    "import pandas as pd\n",
    "\n",
    "import matplotlib\n",
    "\n",
    "import numpy as np\n",
    "\n",
    "import statistics as stats\n",
    "\n",
    "artwork_df = pd.read_csv('artworks.csv', index_col=0)"
   ]
  },
  {
   "attachments": {},
   "cell_type": "markdown",
   "metadata": {},
   "source": [
    "##2: Clean Dataset\n",
    "###Rename Columns\n",
    "###columns that won't be necessary"
   ]
  },
  {
   "cell_type": "code",
   "execution_count": 186,
   "metadata": {},
   "outputs": [],
   "source": [
    "artwork_df.rename(columns={'Artist': 'Artist Name', 'Date': 'Date of Artwork',\n",
    "                           'Circumference (cm)': 'Circumference', 'Depth (cm)': 'Depth',\n",
    "                           'Diameter (cm)': 'Diameter' , 'Height (cm)': 'Height',\n",
    "                           'Length (cm)': 'Length', 'Weight (kg)': 'Weight', \n",
    "                           'Width (cm)': 'Width', 'Seat Height (cm)': 'Seat Height',\n",
    "                           'Duration (sec.)': 'Duration'}, inplace=True)\n",
    "\n"
   ]
  },
  {
   "cell_type": "code",
   "execution_count": 187,
   "metadata": {},
   "outputs": [],
   "source": [
    "#remove columns that won't be needed\n",
    "artwork_df.drop([\"ConstituentID\", \"BeginDate\", \"EndDate\", \"ArtistBio\", \"Medium\", \"Dimensions\", \"CreditLine\", \"AccessionNumber\", \"Department\", \n",
    "                \"DateAcquired\", \"Cataloged\", \"URL\", \"Seat Height\", \"ObjectID\", \"Classification\", \"Nationality\", \"ThumbnailURL\"], axis = 1, inplace = True)\n"
   ]
  },
  {
   "attachments": {},
   "cell_type": "markdown",
   "metadata": {},
   "source": [
    "##3: Add new column to calculate area of artworks\n",
    "###Show Head and tail"
   ]
  },
  {
   "cell_type": "code",
   "execution_count": 188,
   "metadata": {},
   "outputs": [],
   "source": [
    "artwork_df['Area'] = artwork_df['Height'] * artwork_df['Width']"
   ]
  },
  {
   "cell_type": "code",
   "execution_count": 189,
   "metadata": {},
   "outputs": [
    {
     "data": {
      "text/html": [
       "<div>\n",
       "<style scoped>\n",
       "    .dataframe tbody tr th:only-of-type {\n",
       "        vertical-align: middle;\n",
       "    }\n",
       "\n",
       "    .dataframe tbody tr th {\n",
       "        vertical-align: top;\n",
       "    }\n",
       "\n",
       "    .dataframe thead th {\n",
       "        text-align: right;\n",
       "    }\n",
       "</style>\n",
       "<table border=\"1\" class=\"dataframe\">\n",
       "  <thead>\n",
       "    <tr style=\"text-align: right;\">\n",
       "      <th></th>\n",
       "      <th>Artist Name</th>\n",
       "      <th>Gender</th>\n",
       "      <th>Date of Artwork</th>\n",
       "      <th>Circumference</th>\n",
       "      <th>Depth</th>\n",
       "      <th>Diameter</th>\n",
       "      <th>Height</th>\n",
       "      <th>Length</th>\n",
       "      <th>Weight</th>\n",
       "      <th>Width</th>\n",
       "      <th>Duration</th>\n",
       "      <th>Area</th>\n",
       "    </tr>\n",
       "    <tr>\n",
       "      <th>Title</th>\n",
       "      <th></th>\n",
       "      <th></th>\n",
       "      <th></th>\n",
       "      <th></th>\n",
       "      <th></th>\n",
       "      <th></th>\n",
       "      <th></th>\n",
       "      <th></th>\n",
       "      <th></th>\n",
       "      <th></th>\n",
       "      <th></th>\n",
       "      <th></th>\n",
       "    </tr>\n",
       "  </thead>\n",
       "  <tbody>\n",
       "    <tr>\n",
       "      <th>Ferdinandsbrücke Project, Vienna, Austria, Elevation, preliminary version</th>\n",
       "      <td>Otto Wagner</td>\n",
       "      <td>(Male)</td>\n",
       "      <td>1896</td>\n",
       "      <td>NaN</td>\n",
       "      <td>NaN</td>\n",
       "      <td>NaN</td>\n",
       "      <td>48.60</td>\n",
       "      <td>NaN</td>\n",
       "      <td>NaN</td>\n",
       "      <td>168.90</td>\n",
       "      <td>NaN</td>\n",
       "      <td>8208.54</td>\n",
       "    </tr>\n",
       "    <tr>\n",
       "      <th>City of Music, National Superior Conservatory of Music and Dance, Paris, France, View from interior courtyard</th>\n",
       "      <td>Christian de Portzamparc</td>\n",
       "      <td>(Male)</td>\n",
       "      <td>1987</td>\n",
       "      <td>NaN</td>\n",
       "      <td>NaN</td>\n",
       "      <td>NaN</td>\n",
       "      <td>40.64</td>\n",
       "      <td>NaN</td>\n",
       "      <td>NaN</td>\n",
       "      <td>29.85</td>\n",
       "      <td>NaN</td>\n",
       "      <td>1212.91</td>\n",
       "    </tr>\n",
       "    <tr>\n",
       "      <th>Villa near Vienna Project, Outside Vienna, Austria, Elevation</th>\n",
       "      <td>Emil Hoppe</td>\n",
       "      <td>(Male)</td>\n",
       "      <td>1903</td>\n",
       "      <td>NaN</td>\n",
       "      <td>NaN</td>\n",
       "      <td>NaN</td>\n",
       "      <td>34.30</td>\n",
       "      <td>NaN</td>\n",
       "      <td>NaN</td>\n",
       "      <td>31.80</td>\n",
       "      <td>NaN</td>\n",
       "      <td>1090.74</td>\n",
       "    </tr>\n",
       "    <tr>\n",
       "      <th>The Manhattan Transcripts Project, New York, New York, Introductory panel to Episode 1: The Park</th>\n",
       "      <td>Bernard Tschumi</td>\n",
       "      <td>(Male)</td>\n",
       "      <td>1980</td>\n",
       "      <td>NaN</td>\n",
       "      <td>NaN</td>\n",
       "      <td>NaN</td>\n",
       "      <td>50.80</td>\n",
       "      <td>NaN</td>\n",
       "      <td>NaN</td>\n",
       "      <td>50.80</td>\n",
       "      <td>NaN</td>\n",
       "      <td>2580.64</td>\n",
       "    </tr>\n",
       "    <tr>\n",
       "      <th>Villa, project, outside Vienna, Austria, Exterior perspective</th>\n",
       "      <td>Emil Hoppe</td>\n",
       "      <td>(Male)</td>\n",
       "      <td>1903</td>\n",
       "      <td>NaN</td>\n",
       "      <td>NaN</td>\n",
       "      <td>NaN</td>\n",
       "      <td>38.40</td>\n",
       "      <td>NaN</td>\n",
       "      <td>NaN</td>\n",
       "      <td>19.10</td>\n",
       "      <td>NaN</td>\n",
       "      <td>733.44</td>\n",
       "    </tr>\n",
       "  </tbody>\n",
       "</table>\n",
       "</div>"
      ],
      "text/plain": [
       "                                                                 Artist Name  \\\n",
       "Title                                                                          \n",
       "Ferdinandsbrücke Project, Vienna, Austria, Elev...               Otto Wagner   \n",
       "City of Music, National Superior Conservatory o...  Christian de Portzamparc   \n",
       "Villa near Vienna Project, Outside Vienna, Aust...                Emil Hoppe   \n",
       "The Manhattan Transcripts Project, New York, Ne...           Bernard Tschumi   \n",
       "Villa, project, outside Vienna, Austria, Exteri...                Emil Hoppe   \n",
       "\n",
       "                                                    Gender Date of Artwork  \\\n",
       "Title                                                                        \n",
       "Ferdinandsbrücke Project, Vienna, Austria, Elev...  (Male)            1896   \n",
       "City of Music, National Superior Conservatory o...  (Male)            1987   \n",
       "Villa near Vienna Project, Outside Vienna, Aust...  (Male)            1903   \n",
       "The Manhattan Transcripts Project, New York, Ne...  (Male)            1980   \n",
       "Villa, project, outside Vienna, Austria, Exteri...  (Male)            1903   \n",
       "\n",
       "                                                    Circumference  Depth  \\\n",
       "Title                                                                      \n",
       "Ferdinandsbrücke Project, Vienna, Austria, Elev...            NaN    NaN   \n",
       "City of Music, National Superior Conservatory o...            NaN    NaN   \n",
       "Villa near Vienna Project, Outside Vienna, Aust...            NaN    NaN   \n",
       "The Manhattan Transcripts Project, New York, Ne...            NaN    NaN   \n",
       "Villa, project, outside Vienna, Austria, Exteri...            NaN    NaN   \n",
       "\n",
       "                                                    Diameter  Height  Length  \\\n",
       "Title                                                                          \n",
       "Ferdinandsbrücke Project, Vienna, Austria, Elev...       NaN   48.60     NaN   \n",
       "City of Music, National Superior Conservatory o...       NaN   40.64     NaN   \n",
       "Villa near Vienna Project, Outside Vienna, Aust...       NaN   34.30     NaN   \n",
       "The Manhattan Transcripts Project, New York, Ne...       NaN   50.80     NaN   \n",
       "Villa, project, outside Vienna, Austria, Exteri...       NaN   38.40     NaN   \n",
       "\n",
       "                                                    Weight   Width  Duration  \\\n",
       "Title                                                                          \n",
       "Ferdinandsbrücke Project, Vienna, Austria, Elev...     NaN  168.90       NaN   \n",
       "City of Music, National Superior Conservatory o...     NaN   29.85       NaN   \n",
       "Villa near Vienna Project, Outside Vienna, Aust...     NaN   31.80       NaN   \n",
       "The Manhattan Transcripts Project, New York, Ne...     NaN   50.80       NaN   \n",
       "Villa, project, outside Vienna, Austria, Exteri...     NaN   19.10       NaN   \n",
       "\n",
       "                                                       Area  \n",
       "Title                                                        \n",
       "Ferdinandsbrücke Project, Vienna, Austria, Elev...  8208.54  \n",
       "City of Music, National Superior Conservatory o...  1212.91  \n",
       "Villa near Vienna Project, Outside Vienna, Aust...  1090.74  \n",
       "The Manhattan Transcripts Project, New York, Ne...  2580.64  \n",
       "Villa, project, outside Vienna, Austria, Exteri...   733.44  "
      ]
     },
     "execution_count": 189,
     "metadata": {},
     "output_type": "execute_result"
    }
   ],
   "source": [
    "artwork_df.head()"
   ]
  },
  {
   "cell_type": "code",
   "execution_count": 190,
   "metadata": {},
   "outputs": [
    {
     "data": {
      "text/html": [
       "<div>\n",
       "<style scoped>\n",
       "    .dataframe tbody tr th:only-of-type {\n",
       "        vertical-align: middle;\n",
       "    }\n",
       "\n",
       "    .dataframe tbody tr th {\n",
       "        vertical-align: top;\n",
       "    }\n",
       "\n",
       "    .dataframe thead th {\n",
       "        text-align: right;\n",
       "    }\n",
       "</style>\n",
       "<table border=\"1\" class=\"dataframe\">\n",
       "  <thead>\n",
       "    <tr style=\"text-align: right;\">\n",
       "      <th></th>\n",
       "      <th>Artist Name</th>\n",
       "      <th>Gender</th>\n",
       "      <th>Date of Artwork</th>\n",
       "      <th>Circumference</th>\n",
       "      <th>Depth</th>\n",
       "      <th>Diameter</th>\n",
       "      <th>Height</th>\n",
       "      <th>Length</th>\n",
       "      <th>Weight</th>\n",
       "      <th>Width</th>\n",
       "      <th>Duration</th>\n",
       "      <th>Area</th>\n",
       "    </tr>\n",
       "    <tr>\n",
       "      <th>Title</th>\n",
       "      <th></th>\n",
       "      <th></th>\n",
       "      <th></th>\n",
       "      <th></th>\n",
       "      <th></th>\n",
       "      <th></th>\n",
       "      <th></th>\n",
       "      <th></th>\n",
       "      <th></th>\n",
       "      <th></th>\n",
       "      <th></th>\n",
       "      <th></th>\n",
       "    </tr>\n",
       "  </thead>\n",
       "  <tbody>\n",
       "    <tr>\n",
       "      <th>An Episode in the Life of a Landscape Painter from The Valise</th>\n",
       "      <td>NaN</td>\n",
       "      <td>NaN</td>\n",
       "      <td>2006</td>\n",
       "      <td>NaN</td>\n",
       "      <td>NaN</td>\n",
       "      <td>NaN</td>\n",
       "      <td>NaN</td>\n",
       "      <td>NaN</td>\n",
       "      <td>NaN</td>\n",
       "      <td>NaN</td>\n",
       "      <td>NaN</td>\n",
       "      <td>NaN</td>\n",
       "    </tr>\n",
       "    <tr>\n",
       "      <th>Incense Sweaters &amp; Ice (Installation)</th>\n",
       "      <td>Martine Syms</td>\n",
       "      <td>()</td>\n",
       "      <td>2017</td>\n",
       "      <td>NaN</td>\n",
       "      <td>NaN</td>\n",
       "      <td>NaN</td>\n",
       "      <td>NaN</td>\n",
       "      <td>NaN</td>\n",
       "      <td>NaN</td>\n",
       "      <td>NaN</td>\n",
       "      <td>4500.0</td>\n",
       "      <td>NaN</td>\n",
       "    </tr>\n",
       "    <tr>\n",
       "      <th>Just For You</th>\n",
       "      <td>Ken Friedman</td>\n",
       "      <td>(Male)</td>\n",
       "      <td>1967</td>\n",
       "      <td>NaN</td>\n",
       "      <td>0.0</td>\n",
       "      <td>NaN</td>\n",
       "      <td>0.0</td>\n",
       "      <td>NaN</td>\n",
       "      <td>NaN</td>\n",
       "      <td>0.0</td>\n",
       "      <td>NaN</td>\n",
       "      <td>0.0</td>\n",
       "    </tr>\n",
       "    <tr>\n",
       "      <th>Marey and Demeny Chronophotographs</th>\n",
       "      <td>NaN</td>\n",
       "      <td>NaN</td>\n",
       "      <td>1892–1900</td>\n",
       "      <td>NaN</td>\n",
       "      <td>NaN</td>\n",
       "      <td>NaN</td>\n",
       "      <td>NaN</td>\n",
       "      <td>NaN</td>\n",
       "      <td>NaN</td>\n",
       "      <td>NaN</td>\n",
       "      <td>420.0</td>\n",
       "      <td>NaN</td>\n",
       "    </tr>\n",
       "    <tr>\n",
       "      <th>Four Saints in Three Acts</th>\n",
       "      <td>Julien Levy</td>\n",
       "      <td>(Male)</td>\n",
       "      <td>1934</td>\n",
       "      <td>NaN</td>\n",
       "      <td>NaN</td>\n",
       "      <td>NaN</td>\n",
       "      <td>NaN</td>\n",
       "      <td>NaN</td>\n",
       "      <td>NaN</td>\n",
       "      <td>NaN</td>\n",
       "      <td>NaN</td>\n",
       "      <td>NaN</td>\n",
       "    </tr>\n",
       "  </tbody>\n",
       "</table>\n",
       "</div>"
      ],
      "text/plain": [
       "                                                     Artist Name  Gender  \\\n",
       "Title                                                                      \n",
       "An Episode in the Life of a Landscape Painter f...           NaN     NaN   \n",
       "Incense Sweaters & Ice (Installation)               Martine Syms      ()   \n",
       "Just For You                                        Ken Friedman  (Male)   \n",
       "Marey and Demeny Chronophotographs                           NaN     NaN   \n",
       "Four Saints in Three Acts                            Julien Levy  (Male)   \n",
       "\n",
       "                                                   Date of Artwork  \\\n",
       "Title                                                                \n",
       "An Episode in the Life of a Landscape Painter f...            2006   \n",
       "Incense Sweaters & Ice (Installation)                         2017   \n",
       "Just For You                                                  1967   \n",
       "Marey and Demeny Chronophotographs                       1892–1900   \n",
       "Four Saints in Three Acts                                     1934   \n",
       "\n",
       "                                                    Circumference  Depth  \\\n",
       "Title                                                                      \n",
       "An Episode in the Life of a Landscape Painter f...            NaN    NaN   \n",
       "Incense Sweaters & Ice (Installation)                         NaN    NaN   \n",
       "Just For You                                                  NaN    0.0   \n",
       "Marey and Demeny Chronophotographs                            NaN    NaN   \n",
       "Four Saints in Three Acts                                     NaN    NaN   \n",
       "\n",
       "                                                    Diameter  Height  Length  \\\n",
       "Title                                                                          \n",
       "An Episode in the Life of a Landscape Painter f...       NaN     NaN     NaN   \n",
       "Incense Sweaters & Ice (Installation)                    NaN     NaN     NaN   \n",
       "Just For You                                             NaN     0.0     NaN   \n",
       "Marey and Demeny Chronophotographs                       NaN     NaN     NaN   \n",
       "Four Saints in Three Acts                                NaN     NaN     NaN   \n",
       "\n",
       "                                                    Weight  Width  Duration  \\\n",
       "Title                                                                         \n",
       "An Episode in the Life of a Landscape Painter f...     NaN    NaN       NaN   \n",
       "Incense Sweaters & Ice (Installation)                  NaN    NaN    4500.0   \n",
       "Just For You                                           NaN    0.0       NaN   \n",
       "Marey and Demeny Chronophotographs                     NaN    NaN     420.0   \n",
       "Four Saints in Three Acts                              NaN    NaN       NaN   \n",
       "\n",
       "                                                    Area  \n",
       "Title                                                     \n",
       "An Episode in the Life of a Landscape Painter f...   NaN  \n",
       "Incense Sweaters & Ice (Installation)                NaN  \n",
       "Just For You                                         0.0  \n",
       "Marey and Demeny Chronophotographs                   NaN  \n",
       "Four Saints in Three Acts                            NaN  "
      ]
     },
     "execution_count": 190,
     "metadata": {},
     "output_type": "execute_result"
    }
   ],
   "source": [
    "artwork_df.tail()"
   ]
  },
  {
   "attachments": {},
   "cell_type": "markdown",
   "metadata": {},
   "source": [
    "##4: Describe the Area"
   ]
  },
  {
   "cell_type": "code",
   "execution_count": 191,
   "metadata": {},
   "outputs": [
    {
     "data": {
      "text/plain": [
       "count    1.12e+05\n",
       "mean     2.79e+03\n",
       "std      3.30e+04\n",
       "min      0.00e+00\n",
       "25%      3.35e+02\n",
       "50%      7.05e+02\n",
       "75%      1.90e+03\n",
       "max      1.00e+07\n",
       "Name: Area, dtype: float64"
      ]
     },
     "execution_count": 191,
     "metadata": {},
     "output_type": "execute_result"
    }
   ],
   "source": [
    "(artwork_df.Area).describe()"
   ]
  },
  {
   "attachments": {},
   "cell_type": "markdown",
   "metadata": {},
   "source": [
    "##5: Generate a List\n",
    "###use stats and numpy to anaylize Area data"
   ]
  },
  {
   "cell_type": "code",
   "execution_count": 192,
   "metadata": {},
   "outputs": [],
   "source": [
    "pd.set_option('display.precision', 2) #display numerical values with 2 decimal places\n"
   ]
  },
  {
   "cell_type": "code",
   "execution_count": 193,
   "metadata": {},
   "outputs": [
    {
     "data": {
      "text/plain": [
       "129813"
      ]
     },
     "execution_count": 193,
     "metadata": {},
     "output_type": "execute_result"
    }
   ],
   "source": [
    "artwork_area = artwork_df['Area'].values.tolist() #pull width column into a list\n",
    "\n",
    "non_zero_area = list(filter(lambda x: x != 0, artwork_area)) #remove zero values from list\n",
    "\n",
    "len(non_zero_area) #determine how many values are present"
   ]
  },
  {
   "cell_type": "code",
   "execution_count": 194,
   "metadata": {},
   "outputs": [
    {
     "data": {
      "text/plain": [
       "10033711.2"
      ]
     },
     "execution_count": 194,
     "metadata": {},
     "output_type": "execute_result"
    }
   ],
   "source": [
    "max(non_zero_area) #determine max width in cm"
   ]
  },
  {
   "cell_type": "code",
   "execution_count": 195,
   "metadata": {},
   "outputs": [
    {
     "data": {
      "text/plain": [
       "0.3"
      ]
     },
     "execution_count": 195,
     "metadata": {},
     "output_type": "execute_result"
    }
   ],
   "source": [
    "min(non_zero_area) #determine min width in cm"
   ]
  },
  {
   "cell_type": "code",
   "execution_count": 196,
   "metadata": {},
   "outputs": [
    {
     "data": {
      "text/plain": [
       "2851.618296491223"
      ]
     },
     "execution_count": 196,
     "metadata": {},
     "output_type": "execute_result"
    }
   ],
   "source": [
    "np.nanmean(non_zero_area) #mean of width excluding nan values"
   ]
  },
  {
   "cell_type": "code",
   "execution_count": 197,
   "metadata": {},
   "outputs": [
    {
     "data": {
      "text/plain": [
       "720.5099999999999"
      ]
     },
     "execution_count": 197,
     "metadata": {},
     "output_type": "execute_result"
    }
   ],
   "source": [
    "np.nanmedian(non_zero_area) #median of width excluding nan values "
   ]
  },
  {
   "cell_type": "code",
   "execution_count": 198,
   "metadata": {},
   "outputs": [
    {
     "data": {
      "text/plain": [
       "451.6138064541245"
      ]
     },
     "execution_count": 198,
     "metadata": {},
     "output_type": "execute_result"
    }
   ],
   "source": [
    "stats.mode(non_zero_area) #width that occured the most"
   ]
  },
  {
   "cell_type": "code",
   "execution_count": 199,
   "metadata": {},
   "outputs": [
    {
     "data": {
      "text/plain": [
       "33347.83405020231"
      ]
     },
     "execution_count": 199,
     "metadata": {},
     "output_type": "execute_result"
    }
   ],
   "source": [
    "np.nanstd(non_zero_area) #standard deviation of width excluding nan values"
   ]
  },
  {
   "cell_type": "code",
   "execution_count": 200,
   "metadata": {},
   "outputs": [
    {
     "data": {
      "text/plain": [
       "1112078035.839833"
      ]
     },
     "execution_count": 200,
     "metadata": {},
     "output_type": "execute_result"
    }
   ],
   "source": [
    "np.nanvar(non_zero_area) #variance of width excluding nan values"
   ]
  },
  {
   "attachments": {},
   "cell_type": "markdown",
   "metadata": {},
   "source": [
    "##6: Define a fucntion to cube and map to Area list \n"
   ]
  },
  {
   "cell_type": "code",
   "execution_count": 201,
   "metadata": {},
   "outputs": [],
   "source": [
    "def cube(x):\n",
    "    return x ** 3 #cubeism in data! who knew! "
   ]
  },
  {
   "cell_type": "code",
   "execution_count": 202,
   "metadata": {},
   "outputs": [],
   "source": [
    "cubed_area = list(map(cube, non_zero_area))"
   ]
  },
  {
   "cell_type": "code",
   "execution_count": 203,
   "metadata": {},
   "outputs": [
    {
     "data": {
      "text/plain": [
       "9338278103252672.0"
      ]
     },
     "execution_count": 203,
     "metadata": {},
     "output_type": "execute_result"
    }
   ],
   "source": [
    "np.nanmean(cubed_area)"
   ]
  },
  {
   "attachments": {},
   "cell_type": "markdown",
   "metadata": {},
   "source": [
    "##7: Show Histogram of the Artwork dataframe "
   ]
  },
  {
   "cell_type": "code",
   "execution_count": 204,
   "metadata": {},
   "outputs": [
    {
     "data": {
      "image/png": "[encoded data removed]",
      "text/plain": [
       "<Figure size 1000x1000 with 9 Axes>"
      ]
     },
     "metadata": {},
     "output_type": "display_data"
    }
   ],
   "source": [
    "histogram = artwork_df.hist(figsize=(10,10))"
   ]
  }
 ],
 "metadata": {
  "kernelspec": {
   "display_name": "base",
   "language": "python",
   "name": "python3"
  },
  "language_info": {
   "codemirror_mode": {
    "name": "ipython",
    "version": 3
   },
   "file_extension": ".py",
   "mimetype": "text/x-python",
   "name": "python",
   "nbconvert_exporter": "python",
   "pygments_lexer": "ipython3",
   "version": "3.9.16"
  },
  "orig_nbformat": 4,
  "vscode": {
   "interpreter": {
    "hash": "25b302cfdcea3f67f6afa63489f6b57f5f55b0e88ce9bbc9b13fd1e5f70b964d"
   }
  }
 },
 "nbformat": 4,
 "nbformat_minor": 2
}
